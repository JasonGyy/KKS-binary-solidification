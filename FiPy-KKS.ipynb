{
 "cells": [
  {
   "cell_type": "markdown",
   "metadata": {},
   "source": [
    "# KKS Binary Solidification with FiPy\n",
    "This notebook contains code for binary solidification using the\n",
    "Kim-Kim-Suzuki model [1] for interfacial energy. This allows easy specification\n",
    "of gamma, but requires constant chemical potential through the interface.\n",
    "The implementation involves iteratively solving for chemical composition in\n",
    "pure phases such that the chemical potential constraint is satisfied [2].\n",
    "\n",
    "Questions/comments to trevor.keller@nist.gov (Trevor Keller)\n",
    "\n",
    "References:\n",
    "\n",
    "[1] Kim, Kim, and Suzuki. \"Phase-field model for binary alloys.\"\n",
    "    _Physical Review E_ 60:6;7186-7197 (1999).\n",
    "    \n",
    "[2] Provatas and Elder. _Phase-Field Methods in Materials Science and Engineering_,\n",
    "    Chapter 6, Section 9. Wiley VCH: Weinheim, Germany. 2010.\n"
   ]
  },
  {
   "cell_type": "code",
   "execution_count": 50,
   "metadata": {
    "collapsed": true
   },
   "outputs": [],
   "source": [
    "%matplotlib inline\n",
    "from fipy import CellVariable, DiffusionTerm, Grid2D, Matplotlib2DGridViewer, MultiViewer, Solver, TransientTerm, Variable, Viewer\n",
    "from fipy.tools import numerix as nmx\n",
    "import numpy as np"
   ]
  },
  {
   "cell_type": "code",
   "execution_count": 38,
   "metadata": {
    "collapsed": false
   },
   "outputs": [],
   "source": [
    "# Spacetime parameters\n",
    "nx = ny = 64       # domain size\n",
    "dx = dy = 0.075    # mesh resolution\n",
    "dt = Variable(0.1) # initial timestep\n",
    "\n",
    "# Grid and scalar fields\n",
    "mesh = Grid2D(nx=nx, ny=ny, dx=dx, dy=dy)\n",
    "x, y = mesh.cellCenters\n",
    "phase = CellVariable(mesh=mesh, hasOld=True)\n",
    "conc  = CellVariable(mesh=mesh, hasOld=True)\n",
    "Cs  = CellVariable(mesh=mesh, hasOld=False)\n",
    "Cl  = CellVariable(mesh=mesh, hasOld=False)\n",
    "\n",
    "# Default boundary conditions are... ?"
   ]
  },
  {
   "cell_type": "markdown",
   "metadata": {},
   "source": [
    "## Thermodynamics\n",
    "The free energy curves for solid and liquid were computed using PyCalphad, fit with 10<sup>_th_</sup>-order polynomials. Planned upgrades will include equivalent OpenCalphad calls (via PyOC) with SymPy to achieve this without human intervention. For now, we'll risk using the hand-coded result."
   ]
  },
  {
   "cell_type": "code",
   "execution_count": 12,
   "metadata": {
    "collapsed": false
   },
   "outputs": [],
   "source": [
    "# Define polynomial coefficients from curve fitting to CALPHAD\n",
    "calCs = (6.19383857e+03,-3.09926825e+04, 6.69261368e+04,-8.16668934e+04, \\\n",
    "         6.19902973e+04,-3.04134700e+04, 9.74968659e+03,-2.04529002e+03, \\\n",
    "         2.95622845e+02,-3.70962613e+01,-6.12900561e+01)\n",
    "calCl = (6.18692878e+03,-3.09579439e+04, 6.68516329e+04,-8.15779791e+04, \\\n",
    "         6.19257214e+04,-3.03841489e+04, 9.74145735e+03,-2.04379606e+03, \\\n",
    "         2.94796431e+02,-3.39127135e+01,-6.26373908e+01)\n",
    "\n",
    "# Define bulk free energy curves\n",
    "def fs(c_):\n",
    "    return   calCs[0]*c_**10 + calCs[1]*c_**9 + calCs[2]*c_**8 + calCs[3]*c_**7 \\\n",
    "           + calCs[4]*c_**6  + calCs[5]*c_**5 + calCs[6]*c_**4 + calCs[7]*c_**3 \\\n",
    "           + calCs[8]*c_**2  + calCs[9]*c_    + calCs[10]\n",
    "def fl(c_):\n",
    "    return   calCl[0]*c_**10 + calCl[1]*c_**9 + calCl[2]*c_**8 + calCl[3]*c_**7 \\\n",
    "           + calCl[4]*c_**6  + calCl[5]*c_**5 + calCl[6]*c_**4 + calCl[7]*c_**3 \\\n",
    "           + calCl[8]*c_**2  + calCl[9]*c_    + calCl[10]\n",
    "\n",
    "# Define first derivatives\n",
    "def dfs_dc(c_):\n",
    "    return  10.0*calCs[0]*c_**9 + 9.0*calCs[1]*c_**8 + 8.0*calCs[2]*c_**7 \\\n",
    "           + 7.0*calCs[3]*c_**6 + 6.0*calCs[4]*c_**5 + 5.0*calCs[5]*c_**4 \\\n",
    "           + 4.0*calCs[6]*c_**3 + 3.0*calCs[7]*c_**2 + 2.0*calCs[8]*c_ \\\n",
    "           + calCs[9];\n",
    "def dfl_dc(c_):\n",
    "    return  10.0*calCl[0]*c_**9 + 9.0*calCl[1]*c_**8 + 8.0*calCl[2]*c_**7 \\\n",
    "           + 7.0*calCl[3]*c_**6 + 6.0*calCl[4]*c_**5 + 5.0*calCl[5]*c_**4 \\\n",
    "           + 4.0*calCl[6]*c_**3 + 3.0*calCl[7]*c_**2 + 2.0*calCl[8]*c_ \\\n",
    "           + calCl[9];\n",
    "            \n",
    "# Define second derivatives\n",
    "def d2fs_dc2(c_):\n",
    "    return   90.0*calCs[0]*c_**8 + 72.0*calCs[1]*c_**7 + 56.0*calCs[2]*c_**6 \\\n",
    "           + 42.0*calCs[3]*c_**5 + 30.0*calCs[4]*c_**4 + 20.0*calCs[5]*c_**3 \\\n",
    "           + 12.0*calCs[6]*c_**2 +  6.0*calCs[7]*c_    +  2.0*calCs[8]\n",
    "def d2fl_dc2(c_):\n",
    "    return   90.0*calCl[0]*c_**8 + 72.0*calCl[1]*c_**7 + 56.0*calCl[2]*c_**6 \\\n",
    "           + 42.0*calCl[3]*c_**5 + 30.0*calCl[4]*c_**4 + 20.0*calCl[5]*c_**3 \\\n",
    "           + 12.0*calCl[6]*c_**2 +  6.0*calCl[7]*c_    +  2.0*calCl[8]\n",
    "\n",
    "# Equilibrium properties (from solving dfl/dc = 0, etc.)\n",
    "Cse = 0.48300\n",
    "Cle = 0.33886"
   ]
  },
  {
   "cell_type": "markdown",
   "metadata": {},
   "source": [
    "## Initial Condition\n",
    "For testing, the domain contains two circular solid seeds of different radius. The entire domain starts with the same composition."
   ]
  },
  {
   "cell_type": "code",
   "execution_count": 39,
   "metadata": {
    "collapsed": false
   },
   "outputs": [],
   "source": [
    "def initialize():\n",
    "    # Flat field initializations\n",
    "    conc[:] = (Cse + Cle)/2.\n",
    "    phase[:] = 0.\n",
    "    Cs[:] = (Cse + Cle)/2.\n",
    "    Cl[:] = (Cse + Cle)/2.\n",
    "    \n",
    "    # Initial microstructure\n",
    "    rA = 20.*dx\n",
    "    rB = 16.*dx\n",
    "    cA = (     nx * dx / 3.,      ny * dy / 3.)\n",
    "    cB = (3. * nx * dx / 4., 3. * ny * dy / 4.)\n",
    "    mask = ((x - cA[0])**2 + (y - cA[1])**2 < rA**2) + \\\n",
    "           ((x - cB[0])**2 + (y - cB[1])**2 < rB**2)\n",
    "    phase.setValue(1., where=mask)\n",
    "\n",
    "initialize()"
   ]
  },
  {
   "cell_type": "code",
   "execution_count": 56,
   "metadata": {
    "collapsed": false
   },
   "outputs": [
    {
     "data": {
      "image/png": "[encoded data removed]"
     },
     "metadata": {},
     "output_type": "display_data"
    },
    {
     "data": {
      "image/png": "[encoded data removed]",
      "text/plain": [
       "<matplotlib.figure.Figure at 0x7f3ebd993990>"
      ]
     },
     "metadata": {},
     "output_type": "display_data"
    },
    {
     "data": {
      "image/png": "[encoded data removed]",
      "text/plain": [
       "<matplotlib.figure.Figure at 0x7f3ebd8fc910>"
      ]
     },
     "metadata": {},
     "output_type": "display_data"
    }
   ],
   "source": [
    "# Visualize initial conditions\n",
    "viewer = MultiViewer(viewers = (Viewer(vars=phase, title='$\\phi$'), \\\n",
    "                                Viewer(vars=conc,  title='$c$')))\n",
    "viewer.plot()\n",
    "\n",
    "# Can these be forced into a row, instead of a column?"
   ]
  },
  {
   "cell_type": "code",
   "execution_count": null,
   "metadata": {
    "collapsed": true
   },
   "outputs": [],
   "source": []
  }
 ],
 "metadata": {
  "kernelspec": {
   "display_name": "Python 2",
   "language": "python",
   "name": "python2"
  },
  "language_info": {
   "codemirror_mode": {
    "name": "ipython",
    "version": 2
   },
   "file_extension": ".py",
   "mimetype": "text/x-python",
   "name": "python",
   "nbconvert_exporter": "python",
   "pygments_lexer": "ipython2",
   "version": "2.7.11"
  }
 },
 "nbformat": 4,
 "nbformat_minor": 0
}
