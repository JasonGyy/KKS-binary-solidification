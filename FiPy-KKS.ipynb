{
 "cells": [
  {
   "cell_type": "markdown",
   "metadata": {},
   "source": [
    "# KKS Binary Solidification with FiPy\n",
    "This notebook contains code for binary solidification using the\n",
    "Kim-Kim-Suzuki model [1] for interfacial energy. This allows easy specification\n",
    "of gamma, but requires constant chemical potential through the interface.\n",
    "The implementation involves iteratively solving for chemical composition in\n",
    "pure phases such that the chemical potential constraint is satisfied [2].\n",
    "\n",
    "Questions/comments to trevor.keller@nist.gov (Trevor Keller).\n",
    "\n",
    "References:\n",
    "1. Kim, Kim, and Suzuki. \"Phase-field model for binary alloys.\"\n",
    "    _Physical Review E_ 60:6;7186-7197 (1999). \n",
    "2. Provatas and Elder. _Phase-Field Methods in Materials Science and Engineering_,\n",
    "    Chapter 6, Section 9. Wiley VCH: Weinheim, Germany. 2010.\n"
   ]
  },
  {
   "cell_type": "markdown",
   "metadata": {},
   "source": [
    "## Model Description (paraphrased after Provatas & Elder)\n",
    "We are setting out to simulate solidification of two-component alloy with a lenticular phase diagram, or \"binary isomorphous\" system, such as Cu-Ni. The free energy curves for pure phases, $f_S$ and $f_L$, are generated from a CALPHAD database, rather than a regular solution model.\n",
    "\n",
    "In addition to this thermodynamic description, we are adopting the KKS treatment of diffuse interfaces. This simply means that at equilibrium, chemical potential is constant through the interface, and composition varies to make it so. More concretely, composition is defined by the phase fraction $\\phi$ and two fictitious concentration fields, $C_S$ and $C_L$, representing composition of the pure phase, as\n",
    "\n",
    "$$c = h(\\phi)C_S + (1-h(\\phi))C_L,$$\n",
    "\n",
    "where the interpolation function $h(\\phi)=\\phi^3(6\\phi^2-15\\phi+10)$ takes the values in solid $h(\\phi=1)=1$ and liquid $h(\\phi=0)=0$. At equilibrium,\n",
    "\n",
    "$$\\mu = \\left.\\frac{\\partial f_S}{\\partial c}\\right|_{c=C_S} = \\left.\\frac{\\partial f_L}{\\partial c}\\right|_{c=C_L}.$$\n",
    "\n",
    "Taken together, and introducing a double-well function $g(\\phi)=\\phi^2(1-\\phi)^2$, the thermodynamic and interfacial treatments provide the bulk free energy,\n",
    "\n",
    "$$f(\\phi,c,T) = \\omega g(\\phi) + h(\\phi)f_S(C_S,T) + (1-h(\\phi))f_L(C_L,T).$$\n",
    "\n",
    "Now, assuming nonconserved (Allen-Cahn) dynamics for $\\phi$ and conserved (Cahn-Hilliard) dynamics for $c$, we can write the equations of motion\n",
    "\n",
    "$$\\frac{\\partial\\phi}{\\partial t} = -M_\\phi\\frac{\\delta\\mathcal{F}}{\\delta\\phi} \\rightarrow \\tau\\frac{\\partial\\phi}{\\partial t} = \\epsilon_\\phi^2\\nabla^2\\phi -\\omega g'(\\phi) + h'(\\phi)\\left[f_L(C_L) - f_S(C_S) - \\frac{\\partial f_L(C_L)}{\\partial c}(C_L - C_S)\\right]$$\n",
    "\n",
    "$$\\frac{\\partial c}{\\partial t} = \\nabla\\cdot M_c\\nabla\\frac{\\delta\\mathcal{F}}{\\delta c} = D_L\\nabla\\cdot Q(\\phi)\\left[h(\\phi)\\nabla C_S + (1-h(\\phi))\\nabla C_L\\right]$$\n",
    "\n",
    "with phase-dependent mobility $Q(\\phi)=\\frac{1-\\phi}{(1+k) - (1-k)\\phi}$, partition coefficient $k=\\frac{C_S^e}{C_L^e}$, and time constant $\\tau = M_\\phi^{-1}$."
   ]
  },
  {
   "cell_type": "markdown",
   "metadata": {},
   "source": [
    "### The Wrinkle\n",
    "$C_S$ and $C_L$ are not constants, they are field variables whose values depend on $\\phi$ and $c$. Determining their values requires solving for the common tangent, or the coupled roots\n",
    "\n",
    "$$f_1(C_S,C_L) = h(\\phi)C_S + (1-h(\\phi))C_L -c = 0$$\n",
    "\n",
    "$$f_2(C_S,C_L) = \\frac{\\partial f_S(C_S)}{\\partial c} - \\frac{\\partial f_L(C_L)}{\\partial c} = 0.$$\n",
    "\n",
    "This is straightforward using Newton's Method for two simultaneous nonlinear equations, discussed in _Numerical Recipes_ and Ref. [2] above. The iterative scheme is\n",
    "\n",
    "$$ \\left(\\begin{array}{c} C_S^{n+1}\\\\ C_L^{n+1}\\end{array}\\right) = \\left(\\begin{array}{c} C_S^n\\\\ C_L^n\\end{array}\\right) + \\frac{1}{\\mathrm{det}|\\mathbf{J}|}\n",
    "\\left[\\begin{array}{c} \n",
    "    \\frac{\\partial^2 f_L(C_L^n)}{\\partial c^2}f_1(C_S^n,C_L^n) + (1-h(\\phi))f_2(C_S^n,C_L^n)\\\\\n",
    "    \\frac{\\partial^2 f_S(C_S^n)}{\\partial c^2}f_1(C_S^n,C_L^n) - h(\\phi)f_2(C_S^n,C_L^n)\n",
    "\\end{array}\\right]$$\n",
    "\n",
    "with $\\mathrm{det}|\\mathbf{J}|=h(\\phi)\\frac{\\partial^2 f_L(C_L^n)}{\\partial c^2} + (1-h(\\phi))\\frac{\\partial^2 f_S(C_S^n)}{\\partial c^2}$. If your initial guesses are close to the root, this should converge within some tolerance using the error\n",
    "\n",
    "$$ \\eta = \\sqrt{\\left(f_1(C_s^{n+1},C_l^{n+1})\\right)^2 + \\left(f_2(C_s^{n+1},C_l^{n+1})\\right)^2}. $$\n",
    "\n",
    "Note that this is not a normalized residual. While some entries in the LUT will cross $\\eta<10^{-8}$, many stagnate at $\\mathcal{O}(10^{-3})$.\n",
    "\n",
    "Since these two equations have no spatial dependence (no gradients, etc.), and Newton's method is computationally expensive, the standard approach is to construct a lookup table for $C_S$ and $C_L$ covering $\\phi=[-\\delta,1+\\delta]$ and $c=[-\\delta,1+\\delta]$ with a reasonably high number of points, e.g. $125\\times125$, then interpolating from the LUT at runtime. For best results, use the interpolated values as initial guesses for a touch-up iteration or two."
   ]
  },
  {
   "cell_type": "markdown",
   "metadata": {},
   "source": [
    "## Required Libraries"
   ]
  },
  {
   "cell_type": "code",
   "execution_count": null,
   "metadata": {
    "collapsed": true
   },
   "outputs": [],
   "source": [
    "%matplotlib inline\n",
    "from fipy import CellVariable, DiffusionTerm, Grid2D, MultiViewer, Solver, TransientTerm, Variable, Viewer\n",
    "import numpy as np\n",
    "from matplotlib import pyplot as plt"
   ]
  },
  {
   "cell_type": "markdown",
   "metadata": {},
   "source": [
    "## Thermodynamics\n",
    "The free energy curves for solid and liquid were computed using PyCalphad, fit with $10^\\mathrm{th}$-order polynomials. Planned upgrades will include equivalent OpenCalphad calls (via PyOC) with SymPy to achieve this without human intervention. For now, we'll risk using the hand-coded result."
   ]
  },
  {
   "cell_type": "code",
   "execution_count": null,
   "metadata": {
    "collapsed": false
   },
   "outputs": [],
   "source": [
    "# polynomial coefficients from curve fitting to CALPHAD at 1550 K\n",
    "calCs = (6.19383857e+03,-3.09926825e+04, 6.69261368e+04,-8.16668934e+04, \\\n",
    "         6.19902973e+04,-3.04134700e+04, 9.74968659e+03,-2.04529002e+03, \\\n",
    "         2.95622845e+02,-3.70962613e+01,-6.12900561e+01)\n",
    "\n",
    "calCl = (6.18692878e+03,-3.09579439e+04, 6.68516329e+04,-8.15779791e+04, \\\n",
    "         6.19257214e+04,-3.03841489e+04, 9.74145735e+03,-2.04379606e+03, \\\n",
    "         2.94796431e+02,-3.39127135e+01,-6.26373908e+01)\n",
    "\n",
    "# bulk free energy curves\n",
    "def fs(c_):\n",
    "    return   calCs[0]*c_**10 + calCs[1]*c_**9 + calCs[2]*c_**8 + calCs[3]*c_**7 \\\n",
    "           + calCs[4]*c_**6  + calCs[5]*c_**5 + calCs[6]*c_**4 + calCs[7]*c_**3 \\\n",
    "           + calCs[8]*c_**2  + calCs[9]*c_    + calCs[10]\n",
    "\n",
    "def fl(c_):\n",
    "    return   calCl[0]*c_**10 + calCl[1]*c_**9 + calCl[2]*c_**8 + calCl[3]*c_**7 \\\n",
    "           + calCl[4]*c_**6  + calCl[5]*c_**5 + calCl[6]*c_**4 + calCl[7]*c_**3 \\\n",
    "           + calCl[8]*c_**2  + calCl[9]*c_    + calCl[10]\n",
    "\n",
    "# first derivatives\n",
    "def dfs_dc(c_):\n",
    "    return  10.0*calCs[0]*c_**9 + 9.0*calCs[1]*c_**8 + 8.0*calCs[2]*c_**7 \\\n",
    "           + 7.0*calCs[3]*c_**6 + 6.0*calCs[4]*c_**5 + 5.0*calCs[5]*c_**4 \\\n",
    "           + 4.0*calCs[6]*c_**3 + 3.0*calCs[7]*c_**2 + 2.0*calCs[8]*c_ + calCs[9];\n",
    "\n",
    "def dfl_dc(c_):\n",
    "    return  10.0*calCl[0]*c_**9 + 9.0*calCl[1]*c_**8 + 8.0*calCl[2]*c_**7 \\\n",
    "           + 7.0*calCl[3]*c_**6 + 6.0*calCl[4]*c_**5 + 5.0*calCl[5]*c_**4 \\\n",
    "           + 4.0*calCl[6]*c_**3 + 3.0*calCl[7]*c_**2 + 2.0*calCl[8]*c_ + calCl[9];\n",
    "            \n",
    "# second derivatives\n",
    "def d2fs_dc2(c_):\n",
    "    return   90.0*calCs[0]*c_**8 + 72.0*calCs[1]*c_**7 + 56.0*calCs[2]*c_**6 \\\n",
    "           + 42.0*calCs[3]*c_**5 + 30.0*calCs[4]*c_**4 + 20.0*calCs[5]*c_**3 \\\n",
    "           + 12.0*calCs[6]*c_**2 +  6.0*calCs[7]*c_    +  2.0*calCs[8]\n",
    "\n",
    "def d2fl_dc2(c_):\n",
    "    return   90.0*calCl[0]*c_**8 + 72.0*calCl[1]*c_**7 + 56.0*calCl[2]*c_**6 \\\n",
    "           + 42.0*calCl[3]*c_**5 + 30.0*calCl[4]*c_**4 + 20.0*calCl[5]*c_**3 \\\n",
    "           + 12.0*calCl[6]*c_**2 +  6.0*calCl[7]*c_    +  2.0*calCl[8]\n",
    "\n",
    "# pure equilibrium compositions (from solving dfs/dc = 0 and dfl/dc = 0)\n",
    "Cse = 0.48300\n",
    "Cle = 0.33886"
   ]
  },
  {
   "cell_type": "code",
   "execution_count": null,
   "metadata": {
    "collapsed": false
   },
   "outputs": [],
   "source": [
    "w = np.linspace(-0.1,1.1,125)\n",
    "plt.plot(w, fs(w), label=('$f_S$'))\n",
    "plt.plot(w, fl(w), label=('$f_L$'))\n",
    "plt.xlabel('$x_\\mathrm{Ni}$',fontsize=20)\n",
    "plt.ylabel('$G$',fontsize=20)\n",
    "plt.legend(loc=9)"
   ]
  },
  {
   "cell_type": "markdown",
   "metadata": {},
   "source": [
    "## Fictitious composition fields\n",
    "$C_S$ and $C_L$ are computed using the thermodynamic potentials for pure phases ($f_S$ and $f_L$), interpolation and double-well functions, and a weighting function."
   ]
  },
  {
   "cell_type": "code",
   "execution_count": 97,
   "metadata": {
    "collapsed": true
   },
   "outputs": [],
   "source": [
    "# Interpolation function\n",
    "def h(phi_):\n",
    "    return phi_**3 * (6. * phi_**2 - 15. * phi_ + 10.)\n",
    "\n",
    "def hprime(phi_):\n",
    "    return 30. * phi_**2 * (1. - 2. * phi_)\n",
    "\n",
    "# Double well function\n",
    "def g(phi_):\n",
    "    return phi_**2 * (1. - phi_)**2\n",
    "\n",
    "def gprime(phi_):\n",
    "    return 2. * phi_ * (2. * phi_ - 1.) * (phi_ - 1.)\n",
    "\n",
    "# Weighting coefficient (W) for Newton's method\n",
    "def newt_weight(phi_, Cs_, Cl_):\n",
    "    return h(phi_) * d2fl_dc2(Cl_) + (1. - h(phi_)) * d2fs_dc2(Cs_)\n",
    "\n",
    "def conc_equality(phi_, c_, Cs_, Cl_):\n",
    "    # f1 in the itereative scheme: concentration equality\n",
    "    return h(phi_) * Cs_ + (1. - h(phi_)) * Cl_ - c_\n",
    "\n",
    "def diff_equality(phi_, c_, Cs_, Cl_):\n",
    "    # f2 in the iterative scheme: diffusion (or chemical) potential equality\n",
    "    return dfs_dc(Cs_) - dfl_dc(Cl_)"
   ]
  },
  {
   "cell_type": "markdown",
   "metadata": {},
   "source": [
    "### Newton's method\n",
    "We should have everything we need to compute self-consistent values of $C_S$ and $C_L$ given $\\phi$ and $c$."
   ]
  },
  {
   "cell_type": "code",
   "execution_count": null,
   "metadata": {
    "collapsed": true
   },
   "outputs": [],
   "source": [
    "# There's probably a library to do this, e.g. scipy.optimize or sympy."
   ]
  },
  {
   "cell_type": "markdown",
   "metadata": {},
   "source": [
    "## Initial Conditions\n",
    "For testing, the domain contains two circular solid seeds of different radii. The entire domain starts with the same composition."
   ]
  },
  {
   "cell_type": "code",
   "execution_count": null,
   "metadata": {
    "collapsed": false
   },
   "outputs": [],
   "source": [
    "# Spacetime parameters\n",
    "nx = ny = 64       # domain size\n",
    "dx = dy = 0.075    # mesh resolution\n",
    "dt = Variable(0.1) # initial timestep\n",
    "\n",
    "# Grid and scalar fields\n",
    "mesh = Grid2D(nx=nx, ny=ny, dx=dx, dy=dy)\n",
    "x, y = mesh.cellCenters\n",
    "phase = CellVariable(mesh=mesh, hasOld=True)\n",
    "conc  = CellVariable(mesh=mesh, hasOld=True)\n",
    "Cs    = CellVariable(mesh=mesh, hasOld=False)\n",
    "Cl    = CellVariable(mesh=mesh, hasOld=False)\n",
    "# Would a vector-valued variable make more sense than four separate scalar fields?\n",
    "# Default boundary conditions are... ?"
   ]
  },
  {
   "cell_type": "code",
   "execution_count": null,
   "metadata": {
    "collapsed": false
   },
   "outputs": [],
   "source": [
    "def initialize():\n",
    "    # Flat field initializations\n",
    "    conc[:] = (Cse + Cle)/2.\n",
    "    phase[:] = 0.\n",
    "    Cs[:] = (Cse + Cle)/2.\n",
    "    Cl[:] = (Cse + Cle)/2.\n",
    "    \n",
    "    # Initial microstructure\n",
    "    rA = 20. * dx\n",
    "    rB = 16. * dx\n",
    "    cA = (     nx * dx / 3.,      ny * dy / 3.)\n",
    "    cB = (3. * nx * dx / 4., 3. * ny * dy / 4.)\n",
    "    mask = ((x - cA[0])**2 + (y - cA[1])**2 < rA**2) + \\\n",
    "           ((x - cB[0])**2 + (y - cB[1])**2 < rB**2)\n",
    "    phase.setValue(1., where=mask)\n",
    "\n",
    "initialize()"
   ]
  },
  {
   "cell_type": "code",
   "execution_count": null,
   "metadata": {
    "collapsed": false
   },
   "outputs": [],
   "source": [
    "# Visualize initial conditions\n",
    "viewer = MultiViewer(viewers = (Viewer(vars=phase, title='$\\phi$'), \\\n",
    "                                Viewer(vars=conc,  title='$c$')))\n",
    "viewer.plot()\n",
    "\n",
    "# Can these be forced into a row, instead of a column?"
   ]
  },
  {
   "cell_type": "markdown",
   "metadata": {},
   "source": [
    "## Read or Generate Lookup Table (LUT)\n",
    "The fictitious single-phase composition fields $(C_S, C_L)$ are expensive to compute at runtime. Therefore, a LUT is generated offline for quick access to close approximations for the $(\\phi,c)$ values at each grid point. This should be written as a tab-delimited table (TSV) of coordinates $(\\phi,c)$ and values $(C_S,C_L)$.\n",
    "\n",
    "If any parameters affecting the free energy landscape change, the LUT must be re-generated."
   ]
  },
  {
   "cell_type": "code",
   "execution_count": null,
   "metadata": {
    "collapsed": false
   },
   "outputs": [],
   "source": [
    "# Attempt to open consistentC.tsv. If it does not exist, create it. \n",
    "try:\n",
    "    with open('consistentC.tsv') as file:\n",
    "        # LUT already exists: no need to generate\n",
    "        pass\n",
    "except IOError as e:\n",
    "    print \"Lookup table does not exist: generating from scratch. Please be patient...\"\n",
    "    # What's the Pythonic way to do this? NumPy array in 2D? No, need coords.\n",
    "    # Does NumPy have a handy TSV writer? (yes, savetxt) Does FiPy? (yes, tsvviewer)\n",
    "    #\n",
    "    # Pseudocode:\n",
    "    # create a mesh over phi and c, 125x125 points\n",
    "    # create a pair of variables (or two-element vector) at each point, representing Cs and Cl\n",
    "    # for c in -0.1..1.1:\n",
    "    #    for phi in -0.1..1.1:\n",
    "    #        initialize Cs and Cl with reasonable guesses: average of equilibrium compositions?\n",
    "    #        while residual is above tolerance and number of iterations is below patience limit:\n",
    "    #            apply Newton's method holding c, phi constant to determine Cs, Cl, residual\n",
    "    #            if iterations wander off to infinity:\n",
    "    #                randomize Cs, Cl\n",
    "    # export Cs, Cl to TSV\n",
    "\n",
    "# LUT either already existed, or has now been written to disk. Read it into memory.\n",
    "# Note that even in distributed parallel (MPI), each rank must have the full LUT in memory.\n",
    "\n",
    "\n",
    "\n",
    "\n",
    "    "
   ]
  },
  {
   "cell_type": "code",
   "execution_count": null,
   "metadata": {
    "collapsed": true
   },
   "outputs": [],
   "source": []
  }
 ],
 "metadata": {
  "kernelspec": {
   "display_name": "Python 2",
   "language": "python",
   "name": "python2"
  },
  "language_info": {
   "codemirror_mode": {
    "name": "ipython",
    "version": 2
   },
   "file_extension": ".py",
   "mimetype": "text/x-python",
   "name": "python",
   "nbconvert_exporter": "python",
   "pygments_lexer": "ipython2",
   "version": "2.7.11"
  }
 },
 "nbformat": 4,
 "nbformat_minor": 0
}
