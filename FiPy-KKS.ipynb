{
 "cells": [
  {
   "cell_type": "markdown",
   "metadata": {},
   "source": [
    "# KKS Binary Solidification with FiPy\n",
    "This notebook contains code for binary solidification using the\n",
    "Kim-Kim-Suzuki model [1] for interfacial energy. This allows easy specification\n",
    "of gamma, but requires constant chemical potential through the interface.\n",
    "The implementation involves iteratively solving for chemical composition in\n",
    "pure phases such that the chemical potential constraint is satisfied [2].\n",
    "\n",
    "Questions/comments to trevor.keller@nist.gov (Trevor Keller).\n",
    "\n",
    "References:\n",
    "1. Kim, Kim, and Suzuki. \"Phase-field model for binary alloys.\"\n",
    "    _Physical Review E_ 60:6;7186-7197 (1999). \n",
    "2. Provatas and Elder. _Phase-Field Methods in Materials Science and Engineering_,\n",
    "    Chapter 6, Section 9. Wiley VCH: Weinheim, Germany. 2010.\n"
   ]
  },
  {
   "cell_type": "markdown",
   "metadata": {},
   "source": [
    "## Model Description (paraphrased after Provatas & Elder)\n",
    "We are setting out to simulate solidification of two-component alloy with a lenticular phase diagram, or \"binary isomorphous\" system, such as Cu-Ni. The free energy curves for pure phases, $f_S$ and $f_L$, are generated from a CALPHAD database, rather than a regular solution model.\n",
    "\n",
    "In addition to this thermodynamic description, we are adopting the KKS treatment of diffuse interfaces. This simply means that at equilibrium, chemical potential is constant through the interface, and composition varies to make it so. More concretely, composition is defined by the phase fraction $\\phi$ and two fictitious concentration fields, $C_S$ and $C_L$, representing composition of the pure phase, as\n",
    "\n",
    "$$c = h(\\phi)C_S + (1-h(\\phi))C_L,$$\n",
    "\n",
    "where the interpolation function $h(\\phi)=\\phi^3(6\\phi^2-15\\phi+10)$ takes the values in solid $h(\\phi=1)=1$ and liquid $h(\\phi=0)=0$. At equilibrium,\n",
    "\n",
    "$$\\mu = \\left.\\frac{\\partial f_S}{\\partial c}\\right|_{c=C_S} = \\left.\\frac{\\partial f_L}{\\partial c}\\right|_{c=C_L}.$$\n",
    "\n",
    "Taken together, and introducing a double-well function $g(\\phi)=\\phi^2(1-\\phi)^2$, the thermodynamic and interfacial treatments provide the bulk free energy,\n",
    "\n",
    "$$f(\\phi,c,T) = \\omega g(\\phi) + h(\\phi)f_S(C_S,T) + (1-h(\\phi))f_L(C_L,T).$$\n",
    "\n",
    "Now, assuming nonconserved (Allen-Cahn) dynamics for $\\phi$ and conserved (Cahn-Hilliard) dynamics for $c$, we can write the equations of motion\n",
    "\n",
    "$$\\frac{\\partial\\phi}{\\partial t} = -M_\\phi\\frac{\\delta\\mathcal{F}}{\\delta\\phi} \\rightarrow \\tau\\frac{\\partial\\phi}{\\partial t} = \\epsilon_\\phi^2\\nabla^2\\phi -\\omega g'(\\phi) + h'(\\phi)\\left[f_L(C_L) - f_S(C_S) - \\frac{\\partial f_L(C_L)}{\\partial c}(C_L - C_S)\\right]$$\n",
    "\n",
    "$$\\frac{\\partial c}{\\partial t} = \\nabla\\cdot M_c\\nabla\\frac{\\delta\\mathcal{F}}{\\delta c} = M_c\\nabla\\cdot Q(\\phi)\\left[h(\\phi)\\nabla C_S + (1-h(\\phi))\\nabla C_L\\right]$$\n",
    "\n",
    "with phase-dependent mobility $Q(\\phi)=\\frac{1-\\phi}{(1+k) - (1-k)\\phi}$, partition coefficient $k=\\frac{C_S^e}{C_L^e}$, and time constant $\\tau = M_\\phi^{-1}$."
   ]
  },
  {
   "cell_type": "markdown",
   "metadata": {},
   "source": [
    "### The Wrinkle\n",
    "$C_S$ and $C_L$ are not constants, they are field variables whose values depend on $\\phi$ and $c$. Determining their values requires solving for the common tangent, or the coupled roots\n",
    "\n",
    "$$f_1(C_S,C_L) = h(\\phi)C_S + (1-h(\\phi))C_L -c = 0$$\n",
    "\n",
    "$$f_2(C_S,C_L) = \\frac{\\partial f_S(C_S)}{\\partial c} - \\frac{\\partial f_L(C_L)}{\\partial c} = 0.$$\n",
    "\n",
    "While these equations can be solved using Newton's Method (cf. Provatas & Elder Appendix C.3), it's better to invoke a library, which we'll do a little later on. Even with a highly optimized root solver, determining $(C_S,C_L)$ at every grid point gets prohibitively expensive. The standard approach is to construct a lookup table for $C_S$ and $C_L$ covering $\\phi=[-\\delta,1+\\delta]$ and $c=[-\\delta,1+\\delta]$ with a reasonably high number of points, then interpolating from the LUT at runtime. For best results, use the interpolated values as initial guesses for a touch-up iteration or two."
   ]
  },
  {
   "cell_type": "markdown",
   "metadata": {},
   "source": [
    "## Required Libraries"
   ]
  },
  {
   "cell_type": "code",
   "execution_count": null,
   "metadata": {
    "collapsed": false
   },
   "outputs": [],
   "source": [
    "%matplotlib inline\n",
    "# high-performance mathematics and visualization\n",
    "import numpy as np\n",
    "from matplotlib import pyplot as plt\n",
    "from IPython import display\n",
    "\n",
    "# curve fitting\n",
    "from scipy.optimize import curve_fit, fsolve, newton\n",
    "from scipy.interpolate import RectBivariateSpline\n",
    "\n",
    "# Calphad\n",
    "from pycalphad import Database, calculate\n",
    "\n",
    "# phase field\n",
    "from fipy import CellVariable, Grid2D, DiffusionTerm, ImplicitSourceTerm, TransientTerm, Variable\n",
    "from fipy import Matplotlib2DGridViewer, MultiViewer, parallelComm\n",
    "from fipy.solvers.pysparse import LinearLUSolver as Solver\n",
    "#from fipy import Solver"
   ]
  },
  {
   "cell_type": "markdown",
   "metadata": {},
   "source": [
    "## Thermodynamics\n",
    "Rather than a regular solution model, we'll appeal to Calphad for free energy data. Since PyCALPHAD returns points, not curves, we'll fit the data with $10^\\mathrm{th}$-order polynomials using SciPy."
   ]
  },
  {
   "cell_type": "code",
   "execution_count": null,
   "metadata": {
    "collapsed": false
   },
   "outputs": [],
   "source": [
    "# polynomial coefficients from curve fitting to CALPHAD at 1550 K\n",
    "calCs = [0.]\n",
    "calCl = [0.]\n",
    "\n",
    "# pure equilibrium compositions (from solving dfs/dc = 0 and dfl/dc = 0)\n",
    "Cse = Cle = 0.\n",
    "\n",
    "# Generate free energy curves with PyCalphad\n",
    "try:\n",
    "    with open('CuNi_RWTH.tdb') as file:\n",
    "        def energy(x, a, b, c, d, e, f, g, h, i, j, k):\n",
    "            return a*x**10 + b*x**9 + c*x**8 + d*x**7 + e*x**6 + \\\n",
    "                   f*x**5 + g*x**4 + h*x**3 + i*x**2 + j*x + k\n",
    "        def chempot(x, a, b, c, d, e, f, g, h, i, j):\n",
    "            return 10*a*x**9 + 9*b*x**8 + 8*c*x**7 + 7*d*x**6 + 6*e*x**5 + \\\n",
    "                    5*f*x**4 + 4*g*x**3 + 3*h*x**2 + 2*i*x + j\n",
    "\n",
    "        # Import the database\n",
    "        Vm = 7.124e-4\n",
    "        db_cuni = Database('CuNi_RWTH.tdb')\n",
    "        Gs = calculate(db_cuni, ['CU', 'NI', 'VA'], 'FCC_A1', T=1550, output='GM')\n",
    "        xs = np.ravel(Gs.X.sel(component='NI'))\n",
    "        ys = np.ravel(Vm * Gs.GM)\n",
    "        calCs, pcov = curve_fit(energy, xs, ys)\n",
    "        Cse = newton(chempot, 0.5, args=(calCs[0], calCs[1], calCs[2], calCs[3], calCs[4], \\\n",
    "                                         calCs[5], calCs[6], calCs[7], calCs[8], calCs[9]))\n",
    "        \n",
    "        Gl = calculate(db_cuni, ['CU', 'NI', 'VA'], 'LIQUID', T=1550, output='GM')\n",
    "        xl = np.ravel(Gl.X.sel(component='NI'))\n",
    "        yl = np.ravel(Vm * Gl.GM)\n",
    "        calCl, pcov = curve_fit(energy, xl, yl)\n",
    "        Cle = newton(chempot, 0.5, args=(calCl[0], calCl[1], calCl[2], calCl[3], calCl[4], \\\n",
    "                                         calCl[5], calCl[6], calCl[7], calCl[8], calCl[9]))\n",
    "\n",
    "\n",
    "except IOError as e:\n",
    "    print \"CALPHAD database file not found, assuming defaults.\"\n",
    "    calCs = [6.19383857e+03,-3.09926825e+04, 6.69261368e+04,-8.16668934e+04, \\\n",
    "             6.19902973e+04,-3.04134700e+04, 9.74968659e+03,-2.04529002e+03, \\\n",
    "             2.95622845e+02,-3.70962613e+01,-6.12900561e+01]\n",
    "\n",
    "    calCl = [6.18692878e+03,-3.09579439e+04, 6.68516329e+04,-8.15779791e+04, \\\n",
    "             6.19257214e+04,-3.03841489e+04, 9.74145735e+03,-2.04379606e+03, \\\n",
    "             2.94796431e+02,-3.39127135e+01,-6.26373908e+01]\n",
    "\n",
    "    Cse = 0.48300\n",
    "    Cle = 0.33886\n",
    "\n",
    "# partition coefficient\n",
    "k = Cse / Cle"
   ]
  },
  {
   "cell_type": "code",
   "execution_count": null,
   "metadata": {
    "collapsed": false
   },
   "outputs": [],
   "source": [
    "# bulk free energy curves\n",
    "def fS(c_):\n",
    "    return   calCs[0]*c_**10 + calCs[1]*c_**9 + calCs[2]*c_**8 + calCs[3]*c_**7 \\\n",
    "           + calCs[4]*c_**6  + calCs[5]*c_**5 + calCs[6]*c_**4 + calCs[7]*c_**3 \\\n",
    "           + calCs[8]*c_**2  + calCs[9]*c_    + calCs[10]\n",
    "\n",
    "def fL(c_):\n",
    "    return   calCl[0]*c_**10 + calCl[1]*c_**9 + calCl[2]*c_**8 + calCl[3]*c_**7 \\\n",
    "           + calCl[4]*c_**6  + calCl[5]*c_**5 + calCl[6]*c_**4 + calCl[7]*c_**3 \\\n",
    "           + calCl[8]*c_**2  + calCl[9]*c_    + calCl[10]\n",
    "\n",
    "# first derivatives\n",
    "def dfSdc(c_):\n",
    "    return  10.0*calCs[0]*c_**9 + 9.0*calCs[1]*c_**8 + 8.0*calCs[2]*c_**7 \\\n",
    "           + 7.0*calCs[3]*c_**6 + 6.0*calCs[4]*c_**5 + 5.0*calCs[5]*c_**4 \\\n",
    "           + 4.0*calCs[6]*c_**3 + 3.0*calCs[7]*c_**2 + 2.0*calCs[8]*c_ + calCs[9];\n",
    "\n",
    "def dfLdc(c_):\n",
    "    return  10.0*calCl[0]*c_**9 + 9.0*calCl[1]*c_**8 + 8.0*calCl[2]*c_**7 \\\n",
    "           + 7.0*calCl[3]*c_**6 + 6.0*calCl[4]*c_**5 + 5.0*calCl[5]*c_**4 \\\n",
    "           + 4.0*calCl[6]*c_**3 + 3.0*calCl[7]*c_**2 + 2.0*calCl[8]*c_ + calCl[9];\n",
    "            \n",
    "# second derivatives\n",
    "def d2fSdc2(c_):\n",
    "    return   90.0*calCs[0]*c_**8 + 72.0*calCs[1]*c_**7 + 56.0*calCs[2]*c_**6 \\\n",
    "           + 42.0*calCs[3]*c_**5 + 30.0*calCs[4]*c_**4 + 20.0*calCs[5]*c_**3 \\\n",
    "           + 12.0*calCs[6]*c_**2 +  6.0*calCs[7]*c_    +  2.0*calCs[8]\n",
    "\n",
    "def d2fLdc2(c_):\n",
    "    return   90.0*calCl[0]*c_**8 + 72.0*calCl[1]*c_**7 + 56.0*calCl[2]*c_**6 \\\n",
    "           + 42.0*calCl[3]*c_**5 + 30.0*calCl[4]*c_**4 + 20.0*calCl[5]*c_**3 \\\n",
    "           + 12.0*calCl[6]*c_**2 +  6.0*calCl[7]*c_    +  2.0*calCl[8]\n",
    "\n"
   ]
  },
  {
   "cell_type": "code",
   "execution_count": null,
   "metadata": {
    "collapsed": false
   },
   "outputs": [],
   "source": [
    "w = np.linspace(-0.1,1.1,125)\n",
    "plt.plot(w, fS(w), label=('$f_S$'))\n",
    "plt.plot(w, fL(w), label=('$f_L$'))\n",
    "plt.xlabel('$x_\\mathrm{Ni}$',fontsize=20)\n",
    "plt.ylabel('$G$',fontsize=20)\n",
    "plt.legend(loc=9)"
   ]
  },
  {
   "cell_type": "markdown",
   "metadata": {},
   "source": [
    "## Fictitious composition fields\n",
    "$C_S$ and $C_L$ are computed using the thermodynamic potentials for pure phases ($f_S$ and $f_L$), interpolation and double-well functions, and a weighting function."
   ]
  },
  {
   "cell_type": "code",
   "execution_count": null,
   "metadata": {
    "collapsed": true
   },
   "outputs": [],
   "source": [
    "# Interpolation function\n",
    "def h(phi_):\n",
    "    return phi_**3 * (6. * phi_**2 - 15. * phi_ + 10.)\n",
    "\n",
    "def hprime(phi_):\n",
    "    return 30. * phi_**2 * (1. - 2. * phi_)\n",
    "\n",
    "# Double well function\n",
    "def g(phi_):\n",
    "    return phi_**2 * (1. - phi_)**2\n",
    "\n",
    "def gprime(phi_):\n",
    "    return 2. * phi_ * (2. * phi_ - 1.) * (phi_ - 1.)"
   ]
  },
  {
   "cell_type": "markdown",
   "metadata": {},
   "source": [
    "### Common Tangent solution\n",
    "We should have everything we need to compute self-consistent values of $C_S$ and $C_L$ given $\\phi$ and $c$. Instead of coding Newton's Method by hand, we'll use ```scipy.optimize```, which has excellent libraries for root finding. This follows the approach set forth in FiPy's [```examples.phase.binaryCoupled```](http://www.ctcms.nist.gov/fipy/examples/phase/generated/examples.phase.binaryCoupled.html) code. To use it, we'll feed in the coupled equations\n",
    "\n",
    "$$ f_1(C_S,C_L) = h(\\phi)C_S + (1-h(\\phi))C_L -c $$\n",
    "$$ f_2(C_S,C_L) = \\frac{\\partial f_S(C_S)}{\\partial c} - \\frac{\\partial f_L(C_L)}{\\partial c} $$\n",
    "\n",
    "and the Jacobian matrix to accelerate convergence,\n",
    "\n",
    "$$ \\mathbf{J} = \\left[\\begin{array}{c} \n",
    "    \\frac{\\partial f_1}{\\partial C_S} & \\frac{\\partial f_1}{\\partial C_L}\\\\\n",
    "    \\frac{\\partial f_2}{\\partial C_S} & \\frac{\\partial f_2}{\\partial C_L}\n",
    "\\end{array}\\right]  = \\left[\\begin{array}{c} \n",
    "    h(\\phi) & 1-h(\\phi)\\\\\n",
    "    \\frac{\\partial^2 f_S(C_S)}{\\partial c^2} & -\\frac{\\partial^2 f_L(C_L)}{\\partial c^2}\n",
    "\\end{array}\\right]. $$"
   ]
  },
  {
   "cell_type": "code",
   "execution_count": null,
   "metadata": {
    "collapsed": true
   },
   "outputs": [],
   "source": [
    "def commonTangentConc(phi_, c_, guessCs, guessCl):\n",
    "    def equilibrium(C):\n",
    "        return [h(phi_) * C[0] + (1. - h(phi_)) * C[1] - c_,\n",
    "                dfSdc(C[0]) - dfLdc(C[1])                 ]\n",
    "    \n",
    "    def equilibriumJacobian(C):\n",
    "        return [ [ h(phi_)       , 1. - h(phi_)  ],\n",
    "                 [ d2fSdc2(C[0]), -d2fLdc2(C[1])] ]\n",
    "    # Return the tuple (CsRoot, ClRoot)\n",
    "    return fsolve(func=equilibrium, x0=[guessCs, guessCl], fprime=equilibriumJacobian)"
   ]
  },
  {
   "cell_type": "markdown",
   "metadata": {},
   "source": [
    "## Read or Generate Lookup Table (LUT)\n",
    "The fictitious single-phase composition fields $(C_S, C_L)$ are expensive to compute at runtime. Therefore, a LUT is generated offline for quick access to close approximations for the $(\\phi,c)$ values at each grid point. This should be written as a tab-delimited table (TSV) of coordinates $(\\phi,c)$ and values $(C_S,C_L)$.\n",
    "\n",
    "If any parameters affecting the free energy landscape change, the LUT must be re-generated."
   ]
  },
  {
   "cell_type": "code",
   "execution_count": null,
   "metadata": {
    "collapsed": true
   },
   "outputs": [],
   "source": [
    "#!rm consistentC.npz"
   ]
  },
  {
   "cell_type": "code",
   "execution_count": null,
   "metadata": {
    "collapsed": false
   },
   "outputs": [],
   "source": [
    "# Provide number of mesh points and mesh spacing for LUT.\n",
    "# Provide two extra spaces per dimension for a point less than zero and greater than one.\n",
    "# This enables interpolation at zero and one.\n",
    "LUTnp = LUTnc = 1026\n",
    "LUTdp = LUTdc = 1. / (LUTnp - 2)\n",
    "\n",
    "# Attempt to open consistentC.npz. If it does not exist, create it. \n",
    "try:\n",
    "    with open('consistentC.npz') as file:\n",
    "        # LUT already exists: no need to generate\n",
    "        pass\n",
    "except IOError as e:\n",
    "    print \"Lookup table does not exist: generating from scratch. This should finish within 5 minutes.\"\n",
    "    \n",
    "    # create a mesh over phi and c, 125x125 points\n",
    "    pureCs = np.zeros(LUTnp * LUTnc).reshape(LUTnp, LUTnc)\n",
    "    pureCl = np.zeros(LUTnp * LUTnc).reshape(LUTnp, LUTnc)\n",
    "    \n",
    "    # iterate over the LUT, ignore stored value\n",
    "    for (x,y), z in np.ndenumerate(pureCs):\n",
    "        LUTp = (x - 1) * LUTdp\n",
    "        LUTc = (y - 1) * LUTdc\n",
    "        pureCs[x, y], pureCl[x, y] = commonTangentConc(LUTp, LUTc, LUTc, LUTc)\n",
    "    \n",
    "    # export Cs, Cl to compressed NumPy format\n",
    "    np.savez_compressed('consistentC.npz', Cs=pureCs, Cl=pureCl)\n",
    "    \n",
    "\n",
    "# LUT either already existed, or has now been written to disk. Read it into memory.\n",
    "LUTdict = np.load('consistentC.npz')\n",
    "pureCs = LUTdict['Cs'].reshape(LUTnp, LUTnc)\n",
    "pureCl = LUTdict['Cl'].reshape(LUTnp, LUTnc)\n",
    "\n",
    "# Generate interpolation functions for Cs, Cl\n",
    "LUTp = np.linspace(-LUTdp, 1. + LUTdp, LUTnp)\n",
    "LUTc = np.linspace(-LUTdc, 1. + LUTdc, LUTnc)\n",
    "\n",
    "interpolateCs = RectBivariateSpline(LUTp, LUTc, pureCs, bbox=[-LUTdp, 1. + LUTdp, -LUTdc, 1. + LUTdc])\n",
    "interpolateCl = RectBivariateSpline(LUTp, LUTc, pureCl, bbox=[-LUTdp, 1. + LUTdp, -LUTdc, 1. + LUTdc])"
   ]
  },
  {
   "cell_type": "markdown",
   "metadata": {},
   "source": [
    "### Visualize the table\n",
    "$C_S$ and $C_L$ should vary smoothly over the domain, with the fingerprint of your interpolation function $h(\\phi)$ plainly visible."
   ]
  },
  {
   "cell_type": "code",
   "execution_count": null,
   "metadata": {
    "collapsed": false,
    "scrolled": true
   },
   "outputs": [],
   "source": [
    "fig, (ax1, ax2) = plt.subplots(1, 2, sharex=True, sharey=True, figsize=(14,5))\n",
    "pltCs = ax1.imshow(pureCs)\n",
    "ax1.set_title('$C_S$')\n",
    "ax1.set_xlabel('$\\phi/\\Delta\\phi$')\n",
    "ax1.set_ylabel('$c/\\Delta c$')\n",
    "plt.colorbar(pltCs, ax=ax1)\n",
    "pltCl = ax2.imshow(pureCl)\n",
    "ax2.set_title('$C_L$')\n",
    "ax2.set_xlabel('$\\phi/\\Delta\\phi$')\n",
    "plt.colorbar(pltCl, ax=ax2)"
   ]
  },
  {
   "cell_type": "markdown",
   "metadata": {},
   "source": [
    "# Finally, the science"
   ]
  },
  {
   "cell_type": "markdown",
   "metadata": {},
   "source": [
    "## Initial Conditions\n",
    "For testing, the domain contains two circular solid seeds of different radii. The entire domain starts with the same composition."
   ]
  },
  {
   "cell_type": "code",
   "execution_count": null,
   "metadata": {
    "collapsed": false
   },
   "outputs": [],
   "source": [
    "# Spacetime parameters\n",
    "nx = ny = 64       # domain size\n",
    "dx = dy = 0.075    # mesh resolution\n",
    "dt = Variable(0.1) # initial timestep\n",
    "\n",
    "# Grid and scalar fields\n",
    "mesh = Grid2D(nx=nx, ny=ny, dx=dx, dy=dy)\n",
    "x, y = mesh.cellCenters\n",
    "phase = CellVariable(mesh=mesh, hasOld=True)\n",
    "conc  = CellVariable(mesh=mesh, hasOld=True)\n",
    "Cs    = CellVariable(mesh=mesh, hasOld=False)\n",
    "Cl    = CellVariable(mesh=mesh, hasOld=False)"
   ]
  },
  {
   "cell_type": "code",
   "execution_count": null,
   "metadata": {
    "collapsed": false
   },
   "outputs": [],
   "source": [
    "# Flat field initializations\n",
    "conc[:] = (Cse + Cle)/2.\n",
    "phase[:] = 0.\n",
    "#Cs[:] = (Cse + Cle)/2.\n",
    "#Cl[:] = (Cse + Cle)/2.\n",
    "    \n",
    "# Initial microstructure\n",
    "rA = 20. * dx\n",
    "rB = 16. * dx\n",
    "cA = (     nx * dx / 3.,      ny * dy / 3.)\n",
    "cB = (3. * nx * dx / 4., 3. * ny * dy / 4.)\n",
    "mask = ((x - cA[0])**2 + (y - cA[1])**2 < rA**2) + \\\n",
    "       ((x - cB[0])**2 + (y - cB[1])**2 < rB**2)\n",
    "phase.setValue(1., where=mask)\n",
    "\n",
    "# Interpolate Cs and Cl using the initialized values\n",
    "Cs.value = interpolateCs(phase, conc, grid=False)\n",
    "Cl.value = interpolateCl(phase, conc, grid=False)"
   ]
  },
  {
   "cell_type": "markdown",
   "metadata": {},
   "source": [
    "### Build a Viewer\n",
    "This is a simple custom viewer (cf. [```examples.phase.anisotropy```](http://www.ctcms.nist.gov/fipy/examples/phase/generated/examples.phase.anisotropy.html)'s DendriteViewer) that places the two variables $(\\phi,c)$ side-by-side in the notebook, wrapped inside a ```MultiViewer``` so that updating takes only one command."
   ]
  },
  {
   "cell_type": "code",
   "execution_count": null,
   "metadata": {
    "collapsed": false
   },
   "outputs": [],
   "source": [
    "# Visualize initial conditions\n",
    "fig, ((axp, axc), (axs, axl)) = plt.subplots(2, 2, sharex=False, sharey=False, figsize=(14,10))\n",
    "#fig = plt.figure()\n",
    "axp.set_xlabel('$x$')\n",
    "axp.set_ylabel('$y$')\n",
    "axc.set_xlabel('$x$')\n",
    "axc.set_ylabel('$y$')\n",
    "axs.set_xlabel('$x$')\n",
    "axs.set_ylabel('$y$')\n",
    "axl.set_xlabel('$x$')\n",
    "axl.set_ylabel('$y$')\n",
    "\n",
    "viewer = MultiViewer(viewers = (Matplotlib2DGridViewer(vars=phase, title='$\\phi$', axes=axp), \\\n",
    "                                Matplotlib2DGridViewer(vars=conc,  title='$c$'   , axes=axc), \\\n",
    "                                Matplotlib2DGridViewer(vars=Cs  ,  title='$C_S$' , axes=axs), \\\n",
    "                                Matplotlib2DGridViewer(vars=Cl  ,  title='$C_L$' , axes=axl)))"
   ]
  },
  {
   "cell_type": "markdown",
   "metadata": {},
   "source": [
    "## Equation of Motion: Phase Field\n",
    "$$ \\underbrace{\\frac{1}{M_\\phi}\\frac{\\partial\\phi}{\\partial t}}_{\\text{TransientTerm}} \\\n",
    "   = \\underbrace{\\epsilon_\\phi^2\\nabla^2\\phi}_{\\text{DiffusionTerm}} \\\n",
    "   - \\underbrace{\\omega g'(\\phi) + h'(\\phi)\\left(f_L(C_L) - f_S(C_S) - \\frac{\\partial f_L(C_L)}{\\partial c}(C_L - C_S)\\right)}_{\\text{source to be linearized}}$$\n",
    "\n",
    "This discretization proceeds nearly identically to [```examples.phase.simple```](http://www.ctcms.nist.gov/fipy/examples/phase/generated/examples.phase.simple.html). The source term\n",
    "\n",
    "$$ \\begin{align}\n",
    " S &= - \\omega g'(\\phi) + h'(\\phi)\\left(f_L(C_L) - f_S(C_S) - \\frac{\\partial f_L(C_L)}{\\partial c}(C_L - C_S)\\right) \\\\\n",
    "   &= -\\left[ \\omega\\phi(1-\\phi)(1-2\\phi) + 30\\phi^2(1-\\phi)^2\\left(f_S(C_S) - f_L(C_L) - \\frac{\\partial f_L(C_L)}{\\partial c}(C_S-C_L)\\right)\\right] \\\\\n",
    "   &= -\\left[ \\omega(1-2\\phi) + 30\\phi(1-\\phi)\\left(f_S(C_S) - f_L(C_L) - \\frac{\\partial f_L(C_L)}{\\partial c}(C_S-C_L)\\right)\\right]\\phi(1-\\phi) \\\\\n",
    "   &= m_\\phi \\phi(1-\\phi)\n",
    " \\end{align}$$\n",
    " \n",
    " Using the Taylor series expansion about $\\phi_{\\mathrm{old}}$, the source can be represented $S = S_0 + S_1\\phi$ with $S_1 = \\left.\\frac{\\partial S}{\\partial\\phi}\\right|_{\\mathrm{old}}$ and $S_0 = S_{\\mathrm{old}} + S_1\\phi_{\\mathrm{old}}$ with\n",
    " \n",
    " $$ \\begin{align}\n",
    "    \\frac{\\partial S}{\\partial\\phi} &= \\frac{\\partial m_\\phi}{\\partial\\phi}\\phi(1-\\phi) + m_\\phi(1-2\\phi)\\\\\n",
    "    \\frac{\\partial m_\\phi}{\\partial\\phi} &= 2\\omega - 30(1-2\\phi)\\left(f_S(C_S) - f_L(C_L) - \\frac{\\partial f_L(C_L)}{\\partial c}(C_S-C_L)\\right) \\\\\n",
    "    S_1 &= \\frac{\\partial m_\\phi}{\\partial\\phi}\\phi(1-\\phi) + m_\\phi(1-2\\phi) \\\\\n",
    "    S_0 &= m_\\phi\\phi(1-\\phi) - S_1\\phi.\n",
    "    \\end{align}$$"
   ]
  },
  {
   "cell_type": "code",
   "execution_count": null,
   "metadata": {
    "collapsed": false
   },
   "outputs": [],
   "source": [
    "epsSq = 1.25 # gradient penalty coefficient\n",
    "halfwidth = 2.25 * dx # half the interface thickness\n",
    "omega = 2. * epsSq * (2.5 / halfwidth)**2\n",
    "\n",
    "# Cs and Cl are CellVariables. Is that a problem?\n",
    "\n",
    "diffPot = fS(Cs) - fL(Cl) - dfLdc(Cl) * (Cs - Cl)\n",
    "mPhi = -(omega * (1. - 2. * phase) + 30. * phase * (1. - phase) * diffPot)\n",
    "\n",
    "dmPhidPhi = 2. * omega - 30. * (1. - 2. * phase) * diffPot\n",
    "S1 = dmPhidPhi * phase * (1 - phase) + mPhi * (1 - 2 * phase)\n",
    "S0 = mPhi * phase * (1 - phase) - S1 * phase\n",
    "\n",
    "phaseEq = (TransientTerm(var=phase) == DiffusionTerm(coeff=epsSq, var=phase) + S0 \\\n",
    "                                       + ImplicitSourceTerm(coeff=S1, var=phase))"
   ]
  },
  {
   "cell_type": "markdown",
   "metadata": {},
   "source": [
    "## Equation of Motion: Concentration Field\n",
    "$$ \\underbrace{\\frac{1}{M_c}\\frac{\\partial c}{\\partial t}}_{\\text{TransientTerm}} \\\n",
    "   = \\underbrace{\\nabla\\cdot D_S\\nabla C_S}_{\\text{DiffusionTerm}} \\\n",
    "   + \\underbrace{\\nabla\\cdot D_L\\nabla C_L}_{\\text{DiffusionTerm}} $$\n",
    "\n",
    "with solid diffusivity $D_S = Q(\\phi) h(\\phi)$, liquid diffusivity $D_L = Q(\\phi) (1-h(\\phi))$, phase-dependent mobility $Q(\\phi)=\\frac{1-\\phi}{(1+k) - (1-k)\\phi}$, partition coefficient $k=\\frac{C_S}{C_L}$."
   ]
  },
  {
   "cell_type": "code",
   "execution_count": null,
   "metadata": {
    "collapsed": false
   },
   "outputs": [],
   "source": [
    "def Q(phi_, Cs_, Cl_):\n",
    "    K = Cs / Cl\n",
    "    return (1.-phi_) / (1. + K - (1. - K) * phi_)\n",
    "\n",
    "Ds = Q(phase, Cs, Cl) * h(phase)\n",
    "Dl = Q(phase, Cs, Cl) * (1. - h(phase))\n",
    "Mc = dx**2 / 16.\n",
    "# Hang on... in this case is k defined by the thermodynamic model\n",
    "# (minima of the free energy curves), or is it a local quantity? Uh oh...\n",
    "# Provatas' Eqn. 6.42 (p. 107) does not clarify.\n",
    "\n",
    "# This might be why the MMSP implementation isn't doing much.\n",
    "\n",
    "concEq = (TransientTerm(coeff=Mc, var=conc) == DiffusionTerm(coeff=Ds, var=Cs) + DiffusionTerm(coeff=Dl, var=Cl))"
   ]
  },
  {
   "cell_type": "markdown",
   "metadata": {},
   "source": [
    "# Solve it!\n",
    "Uncoupled, for now.\n",
    "\n",
    "The current numerical scheme only updates $C_S$ and $C_L$ after it finishes sweeping. Is this correct?"
   ]
  },
  {
   "cell_type": "code",
   "execution_count": null,
   "metadata": {
    "collapsed": false
   },
   "outputs": [],
   "source": [
    "total_steps = 25\n",
    "sweeps = 3\n",
    "tolerance = 0.1\n",
    "\n",
    "elapsed_time = 0.0\n",
    "current_step = 0\n",
    "\n",
    "solver = Solver()\n",
    "\n",
    "display.display(viewer.plot())\n",
    "\n",
    "while current_step < total_steps:\n",
    "    phase.updateOld()\n",
    "    conc.updateOld()\n",
    "\n",
    "    res_phase0 = phaseEq.sweep(phase, dt=dt.value, solver=solver)\n",
    "    res_conc0  =  concEq.sweep(conc , dt=dt.value, solver=solver)\n",
    "\n",
    "    for sweep in range(sweeps):\n",
    "        res_phase = phaseEq.sweep(phase, dt=dt.value, solver=solver)\n",
    "        res_conc  =  concEq.sweep(conc,  dt=dt.value, solver=solver)\n",
    "\n",
    "    solid_area = (np.array(phase.globalValue)>0.5).sum()*dx*dy # initial size of solid nucleus\n",
    "\n",
    "    if parallelComm.procID==0:\n",
    "        print\n",
    "        print 'dt', dt.value\n",
    "        print 'current time  ', current_step\n",
    "        print 'phase residual', res_phase0,  res_phase\n",
    "        print 'conc residual ', res_conc0,   res_conc\n",
    "        print 'solid area    ', solid_area\n",
    "\n",
    "    if (res_phase < res_phase0 * tolerance) and (res_conc < res_conc0 * tolerance):\n",
    "        elapsed_time += dt.value\n",
    "        current_step += 1\n",
    "        dt.setValue(dt.value * 1.1)\n",
    "        # Interpolate Cs and Cl using the new values\n",
    "        Cs.value = interpolateCs(phase, conc, grid=False)\n",
    "        Cl.value = interpolateCl(phase, conc, grid=False)\n",
    "        display.display(viewer.plot())\n",
    "        if current_step % 10 == 0:\n",
    "            glp = phase.globalValue\n",
    "            glc = conc.globalValue\n",
    "            glcs = Cs.globalValue\n",
    "            glcl = Cl.globalValue\n",
    "            if parallelComm.procID==0:\n",
    "                np.savez_compressed('data/FiPy/dump{0}.npz'.format(current_step), \\\n",
    "                                    phase=np.array(glp), \\\n",
    "                                    conc=np.array(glc), \\\n",
    "                                    Cs=np.array(glcs), \\\n",
    "                                    Cl=np.array(glcl), \\\n",
    "                                    elapsed_time=np.array(elapsed_time))\n",
    "    else:\n",
    "        dt.setValue(dt.value * 0.8)\n",
    "        phase[:] = phase.old\n",
    "        conc[:] == conc.old"
   ]
  },
  {
   "cell_type": "code",
   "execution_count": null,
   "metadata": {
    "collapsed": false
   },
   "outputs": [],
   "source": [
    "viewer.plot()"
   ]
  },
  {
   "cell_type": "code",
   "execution_count": null,
   "metadata": {
    "collapsed": true
   },
   "outputs": [],
   "source": []
  }
 ],
 "metadata": {
  "kernelspec": {
   "display_name": "Python 2",
   "language": "python",
   "name": "python2"
  },
  "language_info": {
   "codemirror_mode": {
    "name": "ipython",
    "version": 2
   },
   "file_extension": ".py",
   "mimetype": "text/x-python",
   "name": "python",
   "nbconvert_exporter": "python",
   "pygments_lexer": "ipython2",
   "version": "2.7.11"
  }
 },
 "nbformat": 4,
 "nbformat_minor": 0
}
